{
 "cells": [
  {
   "cell_type": "code",
   "execution_count": null,
   "id": "15e6f152",
   "metadata": {},
   "outputs": [
    {
     "data": {
      "text/plain": [
       "True"
      ]
     },
     "execution_count": 31,
     "metadata": {},
     "output_type": "execute_result"
    }
   ],
   "source": [
    "import json\n",
    "from requests_oauthlib import OAuth2Session\n",
    "from requests.auth import HTTPBasicAuth\n",
    "import os\n",
    "from datetime import datetime, timedelta\n",
    "from dotenv import load_dotenv\n",
    "\n",
    "load_dotenv()\n"
   ]
  },
  {
   "cell_type": "code",
   "execution_count": 37,
   "id": "83595c69",
   "metadata": {},
   "outputs": [
    {
     "name": "stdout",
     "output_type": "stream",
     "text": [
      "58faffc8452d44a2aa81e039544b8c0d\n",
      "4e8ee3677d2a4f2c8975088c89c9ecec\n",
      "None\n",
      "https://accounts.spotify.com/api/token\n",
      "https://localhost:8001/callback\n"
     ]
    }
   ],
   "source": [
    "print(os.getenv(\"CLIENT_ID\"))\n",
    "print(os.getenv(\"CLIENT_SECRET\"))\n",
    "print(os.getenv(\"AUTH_TOKEN_URL\"))\n",
    "print(os.getenv(\"AUTH_URL\"))\n",
    "print(os.getenv(\"REDIRECT_URI\"))"
   ]
  },
  {
   "cell_type": "code",
   "execution_count": 42,
   "id": "74babdb0",
   "metadata": {},
   "outputs": [],
   "source": [
    "class SpotifyConn:\n",
    "    def __init__(\n",
    "        self, \n",
    "        client_id=os.getenv(\"CLIENT_ID\"), \n",
    "        client_secret=os.getenv(\"CLIENT_SECRET\"), \n",
    "        token_url=os.getenv(\"AUTH_TOKEN_URL\"), \n",
    "        auth_url=os.getenv(\"AUTH_URL\"), \n",
    "        redirect_uri=os.getenv(\"REDIRECT_URI\"), \n",
    "        data_path=\"my_data\", \n",
    "        picklefile=\"ids_added_in_db\", \n",
    "        username=os.getenv(\"CLIENT_USERNAME\"), \n",
    "        scope=None):\n",
    "        if scope is None:\n",
    "            scope = ['user-read-recently-played']\n",
    "        self.client_id = client_id\n",
    "        self.client_secret = client_secret\n",
    "        self.token_url = token_url\n",
    "        self.auth_url = auth_url\n",
    "        self.redirect_uri = redirect_uri\n",
    "        self.data_path = data_path\n",
    "        self.picklefile = picklefile\n",
    "        self.username = username\n",
    "        self.cache_file = f\".cache-{self.username}\"\n",
    "        self.scope = scope\n",
    "        self.token = self._get_token_info()\n",
    "    \n",
    "    @property\n",
    "    def spotify(self):\n",
    "        return OAuth2Session(\n",
    "            self.client_id,\n",
    "            scope=self.scope, \n",
    "            redirect_uri=self.redirect_uri\n",
    "        )\n",
    "    \n",
    "    def _get_token_info(self):\n",
    "        if not os.path.exists(self.cache_file):\n",
    "            #No cached value, get and cache\n",
    "            return \"no cached token go figure\"\n",
    "        #Reading cache\n",
    "        with open(self.cache_file, \"r\") as infile:\n",
    "            cached_token_data = json.load(infile)\n",
    "\n",
    "        return \"expired token\" if int(datetime.now().timestamp()) > cached_token_data['expires_at'] else \"valid access token\"\n",
    "    \n",
    "    def get_token(self):\n",
    "        # Redirect user to Spotify for authorization\n",
    "        authorization_url, state = self.spotify.authorization_url(self.auth_url)\n",
    "        print('Please go here and authorize: ', authorization_url)\n",
    "        redirect_response = input('Paste the full redirect URL here: ')\n",
    "        auth = HTTPBasicAuth(self.client_id, self.client_secret)\n",
    "        # Fetch the access token\n",
    "        token = self.spotify.fetch_token(self.token_url, auth=auth,\n",
    "                authorization_response=redirect_response)\n",
    "        print(token)\n",
    "        with open(self.cache_file, \"w\") as outfile:\n",
    "                json.dump(token, outfile)\n",
    "\n",
    "\n"
   ]
  },
  {
   "cell_type": "code",
   "execution_count": 43,
   "id": "521e3eb3",
   "metadata": {},
   "outputs": [
    {
     "ename": "KeyError",
     "evalue": "'expiration_date'",
     "output_type": "error",
     "traceback": [
      "\u001b[0;31m---------------------------------------------------------------------------\u001b[0m",
      "\u001b[0;31mKeyError\u001b[0m                                  Traceback (most recent call last)",
      "\u001b[1;32m/home/jsunn/projects/other-projects/alt_front/spot-clone-two/spotify_app/Untitled.ipynb Cell 4\u001b[0m in \u001b[0;36m<cell line: 1>\u001b[0;34m()\u001b[0m\n\u001b[0;32m----> <a href='vscode-notebook-cell://wsl%2Bubuntu-20.04/home/jsunn/projects/other-projects/alt_front/spot-clone-two/spotify_app/Untitled.ipynb#X14sdnNjb2RlLXJlbW90ZQ%3D%3D?line=0'>1</a>\u001b[0m conn \u001b[39m=\u001b[39m SpotifyConn()\n",
      "\u001b[1;32m/home/jsunn/projects/other-projects/alt_front/spot-clone-two/spotify_app/Untitled.ipynb Cell 4\u001b[0m in \u001b[0;36mSpotifyConn.__init__\u001b[0;34m(self, client_id, client_secret, token_url, auth_url, redirect_uri, data_path, picklefile, username, scope)\u001b[0m\n\u001b[1;32m     <a href='vscode-notebook-cell://wsl%2Bubuntu-20.04/home/jsunn/projects/other-projects/alt_front/spot-clone-two/spotify_app/Untitled.ipynb#X14sdnNjb2RlLXJlbW90ZQ%3D%3D?line=22'>23</a>\u001b[0m \u001b[39mself\u001b[39m\u001b[39m.\u001b[39mcache_file \u001b[39m=\u001b[39m \u001b[39mf\u001b[39m\u001b[39m\"\u001b[39m\u001b[39m.cache-\u001b[39m\u001b[39m{\u001b[39;00m\u001b[39mself\u001b[39m\u001b[39m.\u001b[39musername\u001b[39m}\u001b[39;00m\u001b[39m\"\u001b[39m\n\u001b[1;32m     <a href='vscode-notebook-cell://wsl%2Bubuntu-20.04/home/jsunn/projects/other-projects/alt_front/spot-clone-two/spotify_app/Untitled.ipynb#X14sdnNjb2RlLXJlbW90ZQ%3D%3D?line=23'>24</a>\u001b[0m \u001b[39mself\u001b[39m\u001b[39m.\u001b[39mscope \u001b[39m=\u001b[39m scope\n\u001b[0;32m---> <a href='vscode-notebook-cell://wsl%2Bubuntu-20.04/home/jsunn/projects/other-projects/alt_front/spot-clone-two/spotify_app/Untitled.ipynb#X14sdnNjb2RlLXJlbW90ZQ%3D%3D?line=24'>25</a>\u001b[0m \u001b[39mself\u001b[39m\u001b[39m.\u001b[39mtoken \u001b[39m=\u001b[39m \u001b[39mself\u001b[39;49m\u001b[39m.\u001b[39;49m_get_token_info()\n",
      "\u001b[1;32m/home/jsunn/projects/other-projects/alt_front/spot-clone-two/spotify_app/Untitled.ipynb Cell 4\u001b[0m in \u001b[0;36mSpotifyConn._get_token_info\u001b[0;34m(self)\u001b[0m\n\u001b[1;32m     <a href='vscode-notebook-cell://wsl%2Bubuntu-20.04/home/jsunn/projects/other-projects/alt_front/spot-clone-two/spotify_app/Untitled.ipynb#X14sdnNjb2RlLXJlbW90ZQ%3D%3D?line=39'>40</a>\u001b[0m \u001b[39mwith\u001b[39;00m \u001b[39mopen\u001b[39m(\u001b[39mself\u001b[39m\u001b[39m.\u001b[39mcache_file, \u001b[39m\"\u001b[39m\u001b[39mr\u001b[39m\u001b[39m\"\u001b[39m) \u001b[39mas\u001b[39;00m infile:\n\u001b[1;32m     <a href='vscode-notebook-cell://wsl%2Bubuntu-20.04/home/jsunn/projects/other-projects/alt_front/spot-clone-two/spotify_app/Untitled.ipynb#X14sdnNjb2RlLXJlbW90ZQ%3D%3D?line=40'>41</a>\u001b[0m     cached_token_data \u001b[39m=\u001b[39m json\u001b[39m.\u001b[39mload(infile)\n\u001b[0;32m---> <a href='vscode-notebook-cell://wsl%2Bubuntu-20.04/home/jsunn/projects/other-projects/alt_front/spot-clone-two/spotify_app/Untitled.ipynb#X14sdnNjb2RlLXJlbW90ZQ%3D%3D?line=42'>43</a>\u001b[0m \u001b[39mreturn\u001b[39;00m \u001b[39m\"\u001b[39m\u001b[39mexpired token\u001b[39m\u001b[39m\"\u001b[39m \u001b[39mif\u001b[39;00m \u001b[39mint\u001b[39m(datetime\u001b[39m.\u001b[39mnow()\u001b[39m.\u001b[39mtimestamp()) \u001b[39m>\u001b[39m cached_token_data[\u001b[39m'\u001b[39;49m\u001b[39mexpiration_date\u001b[39;49m\u001b[39m'\u001b[39;49m] \u001b[39melse\u001b[39;00m \u001b[39m\"\u001b[39m\u001b[39mvalid access token\u001b[39m\u001b[39m\"\u001b[39m\n",
      "\u001b[0;31mKeyError\u001b[0m: 'expiration_date'"
     ]
    }
   ],
   "source": [
    "conn = SpotifyConn()"
   ]
  },
  {
   "cell_type": "code",
   "execution_count": 41,
   "id": "d5cae23a",
   "metadata": {},
   "outputs": [
    {
     "data": {
      "text/plain": [
       "'.cache-None'"
      ]
     },
     "execution_count": 41,
     "metadata": {},
     "output_type": "execute_result"
    }
   ],
   "source": [
    "conn.cache_file"
   ]
  },
  {
   "cell_type": "code",
   "execution_count": 8,
   "id": "d8c7fa64",
   "metadata": {},
   "outputs": [
    {
     "name": "stdout",
     "output_type": "stream",
     "text": [
      "Please go here and authorize:  https://accounts.spotify.com/authorize?response_type=code&client_id=58faffc8452d44a2aa81e039544b8c0d&redirect_uri=https%3A%2F%2Flocalhost%3A8888%2Fcallback%2F&scope=user-read-email+playlist-read-collaborative&state=aSjnXY2hxvwSISEtouhTajCfJd5tW7\n"
     ]
    }
   ],
   "source": [
    "# Credentials you get from registering a new application\n",
    "cache_file = \".cache-juliansunn\"\n",
    "client_id = '58faffc8452d44a2aa81e039544b8c0d'\n",
    "client_secret = '4e8ee3677d2a4f2c8975088c89c9ecec'\n",
    "redirect_uri = 'https://localhost:8888/callback/'\n",
    "# OAuth endpoints given in the Spotify API documentation\n",
    "# https://developer.spotify.com/documentation/general/guides/authorization/code-flow/\n",
    "authorization_base_url = \"https://accounts.spotify.com/authorize\"\n",
    "token_url = \"https://accounts.spotify.com/api/token\"\n",
    "# https://developer.spotify.com/documentation/general/guides/authorization/scopes/\n",
    "scope = [\n",
    "    \"user-read-email\",\n",
    "    \"playlist-read-collaborative\"\n",
    "]\n",
    "spotify = OAuth2Session(client_id, scope=scope, redirect_uri=redirect_uri)\n",
    "# Redirect user to Spotify for authorization\n",
    "authorization_url, state = spotify.authorization_url(authorization_base_url)\n",
    "print('Please go here and authorize: ', authorization_url)\n",
    "# Get the authorization verifier code from the callback url\n",
    "\n"
   ]
  },
  {
   "cell_type": "code",
   "execution_count": 5,
   "id": "df41f91b",
   "metadata": {},
   "outputs": [
    {
     "name": "stdout",
     "output_type": "stream",
     "text": [
      "{'access_token': 'BQDvlXYQb1XLYC_J8fupt4uPcVuID-u1p4XY7hGyM9s9trUGJlLcL4Mfq5C1uzIIeycUBRf1N05fwLa9H3xSuJYhDL2UMrJtz-lF6ipKGb5DxriCzPZQUSGZZUqPNBkIDMzzOsHKbNN_hFBu4c9vHSQRBLjwX0ZYfwU3I0Nz9AsfotDF7GsImRgQNQ', 'token_type': 'Bearer', 'expires_in': 3600, 'refresh_token': 'AQBGlabACBcsAWYqVzVMLPi5O_RF2IIyCafo1TRYH1BsaubfuIBdDYxvZ3ey74coESa0ze0NEsj5m6k1O2wXC7Tepmy-JbPQczk7Hc_DRA8FKtFe0OU5_R0j3JfLY4l-Xus', 'scope': ['playlist-read-collaborative', 'user-read-email'], 'expires_at': 1664563683.9333124}\n",
      "b'{\\n  \"display_name\" : \"Julian Sunn\",\\n  \"email\" : \"juliansunn@yahoo.com\",\\n  \"external_urls\" : {\\n    \"spotify\" : \"https://open.spotify.com/user/1210837287\"\\n  },\\n  \"followers\" : {\\n    \"href\" : null,\\n    \"total\" : 16\\n  },\\n  \"href\" : \"https://api.spotify.com/v1/users/1210837287\",\\n  \"id\" : \"1210837287\",\\n  \"images\" : [ {\\n    \"height\" : null,\\n    \"url\" : \"https://scontent-ort2-2.xx.fbcdn.net/v/t31.18172-1/12356788_10102074074210518_5822717779330633814_o.jpg?stp=dst-jpg_p320x320&_nc_cat=103&ccb=1-7&_nc_sid=0c64ff&_nc_ohc=YLTgNCKyxLUAX9mM_wT&_nc_ht=scontent-ort2-2.xx&edm=AP4hL3IEAAAA&oh=00_AT8Djx0CYEwYck-__yGLu89oqcq5FTb-UT6_WO1xi526VQ&oe=635D960C\",\\n    \"width\" : null\\n  } ],\\n  \"type\" : \"user\",\\n  \"uri\" : \"spotify:user:1210837287\"\\n}'\n"
     ]
    }
   ],
   "source": [
    "\n",
    "redirect_response = input('Paste the full redirect URL here: ')\n",
    "auth = HTTPBasicAuth(client_id, client_secret)\n",
    "# Fetch the access token\n",
    "token = spotify.fetch_token(token_url, auth=auth,\n",
    "        authorization_response=redirect_response)\n",
    "print(token)\n",
    "with open(cache_file, \"w\") as outfile:\n",
    "        json.dump(token, outfile)\n",
    "# Fetch a protected resource, i.e. user profile\n",
    "r = spotify.get('https://api.spotify.com/v1/me')\n",
    "print(r.content)"
   ]
  },
  {
   "cell_type": "code",
   "execution_count": 26,
   "id": "b3d646f7",
   "metadata": {},
   "outputs": [
    {
     "data": {
      "text/plain": [
       "{'access_token': 'BQB0UUCssbOSG6L22DC2xCBt0xs_yEFr6EmIqryGOdZeGpStWdO6v44tiPQB-3Kh_D9D6QDBMk4angYhAtw3WPdbNUFmYWFQngkiDJ7uPE5XZ2bdP_daEGGhLJz-0JLEfDIyEnKaFkq9HUiLzTvjYZ2pZGAdYd8X9h2ShYmLcPufQFw1qbVLh4lv2w',\n",
       " 'token_type': 'Bearer',\n",
       " 'expires_in': 3600,\n",
       " 'scope': ['playlist-read-collaborative', 'user-read-email'],\n",
       " 'expires_at': 1664566598.0931602,\n",
       " 'refresh_token': 'AQBGlabACBcsAWYqVzVMLPi5O_RF2IIyCafo1TRYH1BsaubfuIBdDYxvZ3ey74coESa0ze0NEsj5m6k1O2wXC7Tepmy-JbPQczk7Hc_DRA8FKtFe0OU5_R0j3JfLY4l-Xus'}"
      ]
     },
     "execution_count": 26,
     "metadata": {},
     "output_type": "execute_result"
    }
   ],
   "source": [
    "spotify.refresh_token(token_url, refresh_token=token['refresh_token'], client_id=client_id, client_secret=client_secret)\n"
   ]
  },
  {
   "cell_type": "code",
   "execution_count": null,
   "id": "f02e84fa",
   "metadata": {},
   "outputs": [],
   "source": [
    "df = hist_df[~hist_df['ID'].isin(conn.ids_in_db)]"
   ]
  },
  {
   "cell_type": "code",
   "execution_count": null,
   "id": "1be53e00",
   "metadata": {},
   "outputs": [],
   "source": [
    "df"
   ]
  },
  {
   "cell_type": "code",
   "execution_count": null,
   "id": "7d37cec2",
   "metadata": {},
   "outputs": [],
   "source": [
    "import os\n",
    "import django\n",
    "os.environ.setdefault('DJANGO_SETTINGS_MODULE', 'rest.settings')\n",
    "os.environ[\"DJANGO_ALLOW_ASYNC_UNSAFE\"] = \"true\"\n",
    "django.setup()"
   ]
  },
  {
   "cell_type": "code",
   "execution_count": null,
   "id": "02550955",
   "metadata": {},
   "outputs": [],
   "source": [
    "Track.objects.all()"
   ]
  },
  {
   "cell_type": "code",
   "execution_count": null,
   "id": "13f72e63",
   "metadata": {},
   "outputs": [],
   "source": []
  }
 ],
 "metadata": {
  "kernelspec": {
   "display_name": "Python 3.8.12 ('spotifyenv')",
   "language": "python",
   "name": "python3"
  },
  "language_info": {
   "codemirror_mode": {
    "name": "ipython",
    "version": 3
   },
   "file_extension": ".py",
   "mimetype": "text/x-python",
   "name": "python",
   "nbconvert_exporter": "python",
   "pygments_lexer": "ipython3",
   "version": "3.8.12"
  },
  "vscode": {
   "interpreter": {
    "hash": "974b2da49419685cc853d4fb8f0ed45497a9e4c0b6b0c529a271a69c8bba9ff1"
   }
  }
 },
 "nbformat": 4,
 "nbformat_minor": 5
}
